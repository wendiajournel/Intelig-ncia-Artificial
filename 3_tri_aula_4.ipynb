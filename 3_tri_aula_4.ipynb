{
  "nbformat": 4,
  "nbformat_minor": 0,
  "metadata": {
    "colab": {
      "provenance": [],
      "toc_visible": true,
      "authorship_tag": "ABX9TyMzC+c3SPZ3XK9y4/AcW+Br",
      "include_colab_link": true
    },
    "kernelspec": {
      "name": "python3",
      "display_name": "Python 3"
    },
    "language_info": {
      "name": "python"
    }
  },
  "cells": [
    {
      "cell_type": "markdown",
      "metadata": {
        "id": "view-in-github",
        "colab_type": "text"
      },
      "source": [
        "<a href=\"https://colab.research.google.com/github/wendiajournel/Intelig-ncia-Artificial/blob/main/3_tri_aula_4.ipynb\" target=\"_parent\"><img src=\"https://colab.research.google.com/assets/colab-badge.svg\" alt=\"Open In Colab\"/></a>"
      ]
    },
    {
      "cell_type": "code",
      "execution_count": null,
      "metadata": {
        "id": "mzuonN_M535q"
      },
      "outputs": [],
      "source": [
        "# DESAFIO: Verificar se todos podem subir no bondinho de uma só vez\n",
        "\n",
        "# Entrada de dados: Solicita ao usuário a quantidade de alunos\n",
        "numero_de_alunos = int(input(\"Digite a quantidade de alunos: \"))\n",
        "\n",
        "# Entrada de dados: Solicita ao usuário a quantidade de monitores\n",
        "numero_de_monitores = int(input(\"Digite a quantidade de monitores: \"))\n",
        "\n",
        "# Soma total de pessoas que querem subir no bondinho\n",
        "total_de_pessoas = numero_de_alunos + numero_de_monitores\n",
        "\n",
        "# Verificação se todos podem subir juntos (capacidade máxima do bondinho: 50 pessoas)\n",
        "if total_de_pessoas <= 50:\n",
        "    print(\"Todos podem subir no bondinho juntos!\")\n",
        "else:\n",
        "    print(\"Será necessário fazer mais de uma viagem.\")"
      ]
    },
    {
      "cell_type": "code",
      "source": [
        "# Função para garantir que a entrada seja um número inteiro e positivo\n",
        "def obter_numero_int(msg):\n",
        "    while True:\n",
        "        try:\n",
        "            valor = int(input(msg))\n",
        "            if valor < 0:\n",
        "                print(\"O número não pode ser negativo. Tente novamente.\")\n",
        "            else:\n",
        "                return valor\n",
        "        except ValueError:\n",
        "            print(\"Por favor, digite um número inteiro válido.\")\n",
        "\n",
        "# Entrada de dados com validação\n",
        "numero_de_alunos = obter_numero_int(\"Digite a quantidade de alunos: \")\n",
        "numero_de_monitores = obter_numero_int(\"Digite a quantidade de monitores: \")\n",
        "\n",
        "# Número fixo de professores\n",
        "numero_de_professores = 8\n",
        "\n",
        "# Capacidade máxima do novo bondinho\n",
        "capacidade_maxima = 30\n",
        "\n",
        "# Verificação da capacidade do novo bondinho\n",
        "total_pessoas = numero_de_alunos + numero_de_monitores + numero_de_professores\n",
        "\n",
        "if total_pessoas <= capacidade_maxima:\n",
        "    print(f\"{total_pessoas} pessoas podem ir no bondinho.\")\n",
        "else:\n",
        "    print(f\"{total_pessoas} pessoas não cabem no bondinho. O limite é {capacidade_maxima}.\")"
      ],
      "metadata": {
        "id": "aOQ_VyP66tA2"
      },
      "execution_count": null,
      "outputs": []
    }
  ]
}